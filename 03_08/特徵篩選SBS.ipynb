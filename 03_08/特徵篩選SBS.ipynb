{
 "cells": [
  {
   "cell_type": "code",
   "execution_count": 15,
   "metadata": {
    "collapsed": true
   },
   "outputs": [],
   "source": [
    "# for breast cancer\n",
    "# import package\n",
    "from SBS import *\n",
    "# -----------manipulate data package-----------\n",
    "import pandas as pd\n",
    "import numpy as np\n",
    "# -----------machine learning package-----------\n",
    "from sklearn.datasets import load_breast_cancer\n",
    "from sklearn.preprocessing import StandardScaler\n",
    "from sklearn.ensemble import RandomForestClassifier\n",
    "from sklearn.model_selection import train_test_split\n",
    "from sklearn.neighbors import KNeighborsClassifier\n",
    "\n",
    "from xgboost import XGBClassifier\n",
    "# -----------ploting package-----------\n",
    "import matplotlib\n",
    "import matplotlib.pyplot as plt\n",
    "# for plot showing log in xscale\n",
    "matplotlib.rc('font', family='Arial')\n",
    "%matplotlib inline \n",
    "# plot in jupyter"
   ]
  },
  {
   "cell_type": "code",
   "execution_count": 6,
   "metadata": {},
   "outputs": [
    {
     "name": "stdout",
     "output_type": "stream",
     "text": [
      "212 357\n"
     ]
    }
   ],
   "source": [
    "# load data csv or db\n",
    "# load breast cancer dataset\n",
    "cancer = load_breast_cancer()\n",
    "data_ay = np.c_[cancer.data, cancer.target]\n",
    "\n",
    "columns = np.append(cancer.feature_names, [\"target\"])\n",
    "data = pd.DataFrame(data_ay, columns=columns)\n",
    "\n",
    "cancered = data[data['target']==1].copy().reset_index(drop=True)\n",
    "no_cancer = data[data['target']==0].copy().reset_index(drop=True)\n",
    "\n",
    "print(len(no_cancer),len(cancered))"
   ]
  },
  {
   "cell_type": "code",
   "execution_count": 7,
   "metadata": {
    "collapsed": true
   },
   "outputs": [],
   "source": [
    "# X = dia_df.iloc[:,:-1].values\n",
    "X = data.iloc[:,:-1].values\n",
    "y = data.iloc[:,-1].values\n",
    "X_train,X_test,y_train,y_test = train_test_split(X,y,test_size=0.2,random_state=1)"
   ]
  },
  {
   "cell_type": "code",
   "execution_count": 8,
   "metadata": {
    "collapsed": true
   },
   "outputs": [],
   "source": [
    "# 正規化\n",
    "stdsc = StandardScaler()\n",
    "X_train_std = stdsc.fit_transform(X_train)\n",
    "X_test_std = stdsc.transform(X_test)"
   ]
  },
  {
   "cell_type": "code",
   "execution_count": 27,
   "metadata": {},
   "outputs": [
    {
     "name": "stdout",
     "output_type": "stream",
     "text": [
      "train_score 0.9978\n",
      "test_score 0.9474\n"
     ]
    }
   ],
   "source": [
    "\n",
    "rf = RandomForestClassifier(random_state=1)\n",
    "rf.fit(X_train_std,y_train)\n",
    "\n",
    "print('train_score',round(rf.score(X_train_std,y_train),4))\n",
    "print('test_score',round(rf.score(X_test_std,y_test),4))"
   ]
  },
  {
   "cell_type": "code",
   "execution_count": 16,
   "metadata": {},
   "outputs": [
    {
     "data": {
      "text/plain": [
       "<SBS.SBS at 0x1146a6a90>"
      ]
     },
     "execution_count": 16,
     "metadata": {},
     "output_type": "execute_result"
    }
   ],
   "source": [
    "knn = KNeighborsClassifier(n_neighbors=2)\n",
    "sbs = SBS(rf,k_features=1)\n",
    "sbs.fit(X_train_std,y_train)"
   ]
  },
  {
   "cell_type": "code",
   "execution_count": 17,
   "metadata": {},
   "outputs": [
    {
     "data": {
      "image/png": "[encoded data removed]",
      "text/plain": [
       "<matplotlib.figure.Figure at 0x1148eaf28>"
      ]
     },
     "metadata": {},
     "output_type": "display_data"
    }
   ],
   "source": [
    "k_feat = [len(k) for k in sbs.subsets_]\n",
    "plt.plot(k_feat, sbs.scores_, marker='o')\n",
    "\n",
    "plt.grid(b=True)"
   ]
  },
  {
   "cell_type": "code",
   "execution_count": 22,
   "metadata": {},
   "outputs": [
    {
     "name": "stdout",
     "output_type": "stream",
     "text": [
      "7\n"
     ]
    }
   ],
   "source": [
    "# 還沒想到怎麼直接寫出最佳特徵，所以還是用圖找，看起來只要七個欄位就行。\n",
    "\n",
    "feature_numer = list(sbs.subsets_[23])\n",
    "print(len(feature_numer))"
   ]
  },
  {
   "cell_type": "code",
   "execution_count": 25,
   "metadata": {},
   "outputs": [
    {
     "name": "stdout",
     "output_type": "stream",
     "text": [
      "['mean concave points', 'mean fractal dimension', 'texture error', 'area error', 'compactness error', 'worst texture', 'worst symmetry']\n"
     ]
    }
   ],
   "source": [
    "SBS_best_feature = data.iloc[:,:-1].columns[feature_numer].values.tolist()\n",
    "print(SBS_best_feature)"
   ]
  },
  {
   "cell_type": "code",
   "execution_count": 32,
   "metadata": {},
   "outputs": [
    {
     "name": "stdout",
     "output_type": "stream",
     "text": [
      "train_score 0.9978\n",
      "test_score 0.9474\n",
      "-------------------- SBS篩選特徵過後 --------------------\n",
      "train_score 1.0\n",
      "test_score 0.9561\n"
     ]
    }
   ],
   "source": [
    "# 比較\n",
    "\n",
    "# X = dia_df.iloc[:,:-1].values\n",
    "X_SBS = data[SBS_best_feature].values\n",
    "y = data.iloc[:,-1].values\n",
    "X_train_SBS,X_test_SBS,y_train_SBS,y_test_SBS = train_test_split(X_SBS,y,test_size=0.2,random_state=1)\n",
    "\n",
    "# 正規化\n",
    "stdsc = StandardScaler()\n",
    "X_train_std_SBS = stdsc.fit_transform(X_train_SBS)\n",
    "X_test_std_SBS = stdsc.transform(X_test_SBS)\n",
    "\n",
    "rf.fit(X_train_std,y_train)\n",
    "print('train_score',round(rf.score(X_train_std,y_train),4))\n",
    "print('test_score',round(rf.score(X_test_std,y_test),4))\n",
    "print(20*'-','SBS篩選特徵過後',20*'-')\n",
    "rf.fit(X_train_std_SBS,y_train)\n",
    "print('train_score',round(rf.score(X_train_std_SBS,y_train),4))\n",
    "print('test_score',round(rf.score(X_test_std_SBS,y_test),4))"
   ]
  },
  {
   "cell_type": "code",
   "execution_count": null,
   "metadata": {
    "collapsed": true
   },
   "outputs": [],
   "source": []
  }
 ],
 "metadata": {
  "kernelspec": {
   "display_name": "Python 3",
   "language": "python",
   "name": "python3"
  },
  "language_info": {
   "codemirror_mode": {
    "name": "ipython",
    "version": 3
   },
   "file_extension": ".py",
   "mimetype": "text/x-python",
   "name": "python",
   "nbconvert_exporter": "python",
   "pygments_lexer": "ipython3",
   "version": "3.5.3"
  }
 },
 "nbformat": 4,
 "nbformat_minor": 2
}
