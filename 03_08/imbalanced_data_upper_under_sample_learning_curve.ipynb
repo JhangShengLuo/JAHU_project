{
 "cells": [
  {
   "cell_type": "code",
   "execution_count": 5,
   "metadata": {
    "collapsed": true
   },
   "outputs": [],
   "source": [
    "# set random seed to replicated results\n",
    "import random\n",
    "random.seed(9001) \n",
    "# -----------ploting package-----------\n",
    "import matplotlib\n",
    "import matplotlib.pyplot as plt\n",
    "# for plot showing log in xscale\n",
    "matplotlib.rc('font', family='Arial')\n",
    "%matplotlib inline\n",
    "\n",
    "# for breast cancer\n",
    "# import package\n",
    "# -----------manipulate data package-----------\n",
    "import pandas as pd\n",
    "import numpy as np\n",
    "# -----------machine learning package-----------\n",
    "from sklearn.datasets import load_breast_cancer\n",
    "from sklearn.preprocessing import StandardScaler\n",
    "from sklearn.ensemble import RandomForestClassifier\n",
    "from sklearn.model_selection import train_test_split\n",
    "\n",
    "from sklearn.decomposition import PCA\n",
    "from sklearn.pipeline import Pipeline\n",
    "from sklearn.model_selection import learning_curve\n",
    "from sklearn.utils import resample\n"
   ]
  },
  {
   "cell_type": "code",
   "execution_count": 8,
   "metadata": {},
   "outputs": [
    {
     "name": "stdout",
     "output_type": "stream",
     "text": [
      "212 357\n"
     ]
    }
   ],
   "source": [
    "# load data csv or db\n",
    "# load breast cancer dataset\n",
    "cancer = load_breast_cancer()\n",
    "data_ay = np.c_[cancer.data, cancer.target]\n",
    "\n",
    "columns = np.append(cancer.feature_names, [\"target\"])\n",
    "data = pd.DataFrame(data_ay, columns=columns)\n",
    "\n",
    "no_cancer = data[data['target']==0].copy().reset_index(drop=True)\n",
    "cancered = data[data['target']==1].copy().reset_index(drop=True)\n",
    "\n",
    "print(len(no_cancer),len(cancered))\n",
    "canceredc = cancered.copy()"
   ]
  },
  {
   "cell_type": "code",
   "execution_count": 10,
   "metadata": {},
   "outputs": [
    {
     "name": "stdout",
     "output_type": "stream",
     "text": [
      "714\n"
     ]
    }
   ],
   "source": [
    "# upsample for minority\n",
    "df_minority_upsampled = resample(no_cancer,replace=True,n_samples=len(cancered),random_state=1)\n",
    "data = canceredc.append(df_minority_upsampled,ignore_index=True)\n",
    "print(len(data)) # should equal len(cancered)*2\n",
    "\n",
    "# # undersample for majority\n",
    "# df_majority_undersampled = resample(no_dfc,replace=True,n_samples=len(train_scsc),random_state=1)\n",
    "# data = df_majority_undersampled.append(train_scsc,ignore_index=True)\n"
   ]
  },
  {
   "cell_type": "code",
   "execution_count": 14,
   "metadata": {
    "collapsed": true
   },
   "outputs": [],
   "source": [
    "SBS_list = ['mean concave points', 'mean fractal dimension', 'texture error', 'area error'\\\n",
    " , 'compactness error', 'worst texture', 'worst symmetry']\n",
    "# 用特徵篩選完的欄位\n",
    "X = data[SBS_list].values\n",
    "y = data.iloc[:,-1].values\n",
    "X_train,X_test,y_train,y_test = train_test_split(X,y,test_size=0.2,random_state=1)"
   ]
  },
  {
   "cell_type": "code",
   "execution_count": 16,
   "metadata": {},
   "outputs": [
    {
     "name": "stdout",
     "output_type": "stream",
     "text": [
      "train_score 1.0\n",
      "test_score 0.979\n"
     ]
    }
   ],
   "source": [
    "## 隨機森林分類\n",
    "## class_weight 是用來調整如果資料imbalanced\n",
    "##但比較重要的判斷不是準確度而應該是用 confusion matrix\n",
    "# rf = RandomForestClassifier(random_state=6,class_weight={0:0.01,1:0.99})\n",
    "rf = RandomForestClassifier(random_state=1)\n",
    "rf.fit(X_train,y_train)\n",
    "\n",
    "print('train_score',round(rf.score(X_train,y_train),4))\n",
    "print('test_score',round(rf.score(X_test,y_test),4))"
   ]
  },
  {
   "cell_type": "code",
   "execution_count": 17,
   "metadata": {},
   "outputs": [
    {
     "data": {
      "image/png": "[encoded data removed]",
      "text/plain": [
       "<matplotlib.figure.Figure at 0x1141829b0>"
      ]
     },
     "metadata": {},
     "output_type": "display_data"
    }
   ],
   "source": [
    "## 使用pipeline 串接\n",
    "pipe_rf = Pipeline([('scl',StandardScaler()),('rf',RandomForestClassifier(random_state=1))])\n",
    "\n",
    "train_sizes, train_scores, test_scores = learning_curve(estimator=pipe_rf,X=X_train,\\\n",
    "                                                        y=y_train,train_sizes=np.linspace(0.1,1.0,10),cv=10,n_jobs=1)\n",
    "\n",
    "train_mean = np.mean(train_scores, axis=1)\n",
    "train_std = np.std(train_scores, axis=1)\n",
    "test_mean = np.mean(test_scores, axis=1)\n",
    "test_std = np.std(test_scores,axis=1)\n",
    "plt.figure(figsize=(10,7))\n",
    "plt.plot(train_sizes,train_mean,color='blue',marker = 'o',markersize=5,label='training accuracy')\n",
    "plt.fill_between(train_sizes,train_mean+train_std,train_mean - train_std,alpha=0.15,color='blue')\n",
    "\n",
    "plt.plot(train_sizes,test_mean,color='green',linestyle='--',marker='s',markersize=5,label='validation accuracy')\n",
    "plt.fill_between(train_sizes,test_mean + test_std,test_mean-test_std,alpha=0.15,color='green')\n",
    "\n",
    "plt.grid()\n",
    "plt.xlabel('Number of training samples')\n",
    "plt.ylabel('Accuracy')\n",
    "plt.legend(loc='lower right')\n",
    "plt.ylim([0.6,1.0])\n",
    "plt.show()"
   ]
  },
  {
   "cell_type": "code",
   "execution_count": null,
   "metadata": {
    "collapsed": true
   },
   "outputs": [],
   "source": []
  }
 ],
 "metadata": {
  "kernelspec": {
   "display_name": "Python 3",
   "language": "python",
   "name": "python3"
  },
  "language_info": {
   "codemirror_mode": {
    "name": "ipython",
    "version": 3
   },
   "file_extension": ".py",
   "mimetype": "text/x-python",
   "name": "python",
   "nbconvert_exporter": "python",
   "pygments_lexer": "ipython3",
   "version": "3.5.3"
  }
 },
 "nbformat": 4,
 "nbformat_minor": 2
}
