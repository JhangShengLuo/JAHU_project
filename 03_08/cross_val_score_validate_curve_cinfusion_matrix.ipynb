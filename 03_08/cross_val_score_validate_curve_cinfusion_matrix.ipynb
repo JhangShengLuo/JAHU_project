{
 "cells": [
  {
   "cell_type": "code",
   "execution_count": 2,
   "metadata": {
    "collapsed": true
   },
   "outputs": [],
   "source": [
    "# for breast cancer\n",
    "# import package\n",
    "from sklearn.datasets import load_breast_cancer\n",
    "# -----------manipulate data package-----------\n",
    "import pandas as pd\n",
    "import numpy as np\n",
    "# -----------machine learning package-----------\n",
    "from sklearn.preprocessing import StandardScaler\n",
    "from sklearn.decomposition import PCA\n",
    "from sklearn.linear_model import LogisticRegression\n",
    "from sklearn.ensemble import RandomForestClassifier\n",
    "from xgboost import XGBClassifier,DMatrix\n",
    "from sklearn.pipeline import Pipeline\n",
    "from sklearn.preprocessing import LabelEncoder\n",
    "from sklearn.model_selection import train_test_split\n",
    "from sklearn.model_selection import StratifiedKFold\n",
    "from sklearn.model_selection import cross_val_score\n",
    "from sklearn.model_selection import learning_curve\n",
    "from sklearn.model_selection import validation_curve\n",
    "from sklearn.utils import resample\n",
    "from sklearn.metrics import confusion_matrix\n",
    "\n",
    "# -----------ploting package-----------\n",
    "import matplotlib\n",
    "import matplotlib.pyplot as plt\n",
    "# for plot showing log in xscale\n",
    "matplotlib.rc('font', family='Arial')\n",
    "%matplotlib inline \n",
    "# plot in jupyter"
   ]
  },
  {
   "cell_type": "code",
   "execution_count": 3,
   "metadata": {},
   "outputs": [
    {
     "name": "stdout",
     "output_type": "stream",
     "text": [
      "212 357\n"
     ]
    }
   ],
   "source": [
    "# load data csv or db\n",
    "# load breast cancer dataset\n",
    "cancer = load_breast_cancer()\n",
    "data_ay = np.c_[cancer.data, cancer.target]\n",
    "\n",
    "columns = np.append(cancer.feature_names, [\"target\"])\n",
    "data = pd.DataFrame(data_ay, columns=columns)\n",
    "\n",
    "no_cancer = data[data['target']==0].copy().reset_index(drop=True)\n",
    "cancered = data[data['target']==1].copy().reset_index(drop=True)\n",
    "\n",
    "print(len(no_cancer),len(cancered))\n",
    "canceredc = cancered.copy()"
   ]
  },
  {
   "cell_type": "code",
   "execution_count": 4,
   "metadata": {
    "collapsed": true
   },
   "outputs": [],
   "source": [
    "SBS_list = ['mean concave points', 'mean fractal dimension', 'texture error', 'area error'\\\n",
    " , 'compactness error', 'worst texture', 'worst symmetry']\n",
    "# 用特徵篩選完的欄位\n",
    "X = data[SBS_list].values\n",
    "y = data.iloc[:,-1].values.astype('int32')\n",
    "X_train,X_test,y_train,y_test = train_test_split(X,y,test_size=0.2,random_state=1)"
   ]
  },
  {
   "cell_type": "code",
   "execution_count": 5,
   "metadata": {
    "collapsed": true
   },
   "outputs": [],
   "source": [
    "pipe_rf = Pipeline([('scl',StandardScaler()),('rf',RandomForestClassifier(random_state=1,))])"
   ]
  },
  {
   "cell_type": "code",
   "execution_count": 6,
   "metadata": {},
   "outputs": [
    {
     "name": "stdout",
     "output_type": "stream",
     "text": [
      "Train Accuracy:1.000\n",
      "Test Accuracy:0.956\n"
     ]
    }
   ],
   "source": [
    "pipe_rf.fit(X_train,y_train)\n",
    "print('Train Accuracy:%.3f' % pipe_rf.score(X_train,y_train))\n",
    "print('Test Accuracy:%.3f' % pipe_rf.score(X_test,y_test))"
   ]
  },
  {
   "cell_type": "code",
   "execution_count": 7,
   "metadata": {},
   "outputs": [
    {
     "name": "stdout",
     "output_type": "stream",
     "text": [
      "Fold: 1, Class dist,: [153 256],Acc: 0.913\n",
      "Fold: 2, Class dist,: [153 256],Acc: 0.978\n",
      "Fold: 3, Class dist,: [153 256],Acc: 0.957\n",
      "Fold: 4, Class dist,: [153 256],Acc: 0.935\n",
      "Fold: 5, Class dist,: [153 256],Acc: 0.935\n",
      "Fold: 6, Class dist,: [153 257],Acc: 0.978\n",
      "Fold: 7, Class dist,: [153 257],Acc: 0.933\n",
      "Fold: 8, Class dist,: [153 257],Acc: 0.933\n",
      "Fold: 9, Class dist,: [153 257],Acc: 0.933\n",
      "Fold: 10, Class dist,: [153 257],Acc: 0.956\n",
      "CV accuracy: 0.945 +/- 0.020\n"
     ]
    }
   ],
   "source": [
    "# kfold 範例程式碼\n",
    "kfold = StratifiedKFold(n_splits=10,random_state=1)\n",
    "\n",
    "scores=[]\n",
    "for k,(train, test) in enumerate(kfold.split(X_train, y_train)):\n",
    "    pipe_rf.fit(X_train[train],y_train[train])\n",
    "    score = pipe_rf.score(X_train[test],y_train[test])\n",
    "    scores.append(score)\n",
    "    print('Fold: %s, Class dist,: %s,Acc: %.3f' %(k+1,np.bincount(y_train[train]),score))\n",
    "print('CV accuracy: %.3f +/- %.3f' %(np.mean(scores),np.std(scores)))"
   ]
  },
  {
   "cell_type": "code",
   "execution_count": 8,
   "metadata": {},
   "outputs": [
    {
     "name": "stdout",
     "output_type": "stream",
     "text": [
      "CV accuracy scores:[ 0.91304348  0.97826087  0.95652174  0.93478261  0.93478261  0.97777778\n",
      "  0.93333333  0.93333333  0.93333333  0.95555556]\n",
      "CV accuracy:0.945 +/- 0.020\n"
     ]
    }
   ],
   "source": [
    "# 實際上用cross_val_score就行\n",
    "scores = cross_val_score(estimator=pipe_rf,X=X_train,y=y_train,cv=10,n_jobs=1)\n",
    "print('CV accuracy scores:%s' %scores)\n",
    "print('CV accuracy:%.3f +/- %.3f' % (np.mean(scores),np.std(scores)))"
   ]
  },
  {
   "cell_type": "code",
   "execution_count": null,
   "metadata": {
    "collapsed": true
   },
   "outputs": [],
   "source": []
  },
  {
   "cell_type": "code",
   "execution_count": 9,
   "metadata": {},
   "outputs": [
    {
     "data": {
      "image/png": "[encoded data removed]",
      "text/plain": [
       "<matplotlib.figure.Figure at 0x114764400>"
      ]
     },
     "metadata": {},
     "output_type": "display_data"
    }
   ],
   "source": [
    "# # validate_curve\n",
    "param = 'n_estimators'\n",
    "param_range = [1,5,10,15,20]\n",
    "train_scores,test_scores = validation_curve(estimator=pipe_rf,X=X_train,\\\n",
    "                                            y=y_train,param_name='rf__'+param,param_range=param_range,cv=10)\n",
    "\n",
    "\n",
    "train_mean = np.mean(train_scores, axis=1)\n",
    "train_std = np.std(train_scores, axis=1)\n",
    "test_mean = np.mean(test_scores, axis=1)\n",
    "test_std = np.std(test_scores,axis=1)\n",
    "plt.figure(figsize=(10,7))\n",
    "plt.plot(param_range,train_mean,color='blue',marker = 'o',markersize=5,label='training accuracy')\n",
    "\n",
    "plt.fill_between(param_range,train_mean+train_std,train_mean - train_std,alpha=0.15,color='blue')\n",
    "\n",
    "\n",
    "\n",
    "plt.plot(param_range,test_mean,color='green',linestyle='--',marker='s',markersize=5,label='validation accuracy')\n",
    "plt.fill_between(param_range,test_mean + test_std,test_mean-test_std,alpha=0.15,color='green')\n",
    "\n",
    "plt.grid()\n",
    "# plt.xscale('log')\n",
    "plt.legend(loc='lower right')\n",
    "plt.xlabel('Parameter '+param)\n",
    "plt.ylabel('Accuracy')\n",
    "\n",
    "plt.ylim([0.6,1.0])\n",
    "plt.show()"
   ]
  },
  {
   "cell_type": "code",
   "execution_count": null,
   "metadata": {
    "collapsed": true
   },
   "outputs": [],
   "source": []
  },
  {
   "cell_type": "code",
   "execution_count": 10,
   "metadata": {
    "collapsed": true
   },
   "outputs": [],
   "source": [
    "# https://github.com/barrachri/imbalanced_datasets/blob/master/utils.py\n",
    "\n",
    "def plot_confusion_matrix(cm, classes,\n",
    "                          title='Confusion matrix',\n",
    "                          cmap=plt.cm.Blues):\n",
    "    \"\"\"\n",
    "    Plot the confusion matrix.\n",
    "    The returned matrix is normalized but shows the original value\n",
    "    \"\"\"\n",
    "    \n",
    "    plt.figure(figsize=SIZE_IMAGE)\n",
    "    \n",
    "    cm_n = cm.astype('float') / cm.sum(axis=1)[:, np.newaxis]\n",
    "\n",
    "    plt.imshow(cm_n, interpolation='nearest', cmap=cmap)\n",
    "    plt.title(title)\n",
    "    plt.colorbar()\n",
    "    tick_marks = np.arange(len(classes))\n",
    "    plt.xticks(tick_marks, classes, rotation=45)\n",
    "    plt.yticks(tick_marks, classes)\n",
    "\n",
    "    thresh = cm_n.max() / 3.\n",
    "    \n",
    "    for i, j in itertools.product(range(cm.shape[0]), range(cm.shape[1])):\n",
    "        \n",
    "        color=\"white\" if cm_n[i, j] > thresh else \"black\"\n",
    "        \n",
    "        value_normalized = cm_n[i, j]\n",
    "        value = cm[i, j] \n",
    "        \n",
    "        # print original values\n",
    "        plt.text(j, i, format(value),\n",
    "                 horizontalalignment=\"center\",\n",
    "                 verticalalignment='top',\n",
    "                 color=color)\n",
    "        \n",
    "        # print normalized values\n",
    "        plt.text(j, i, format(value_normalized,'.2f'),\n",
    "                 horizontalalignment=\"center\",\n",
    "                 verticalalignment='bottom',\n",
    "                 color=color)  \n",
    "          \n",
    "\n",
    "    plt.tight_layout()\n",
    "    plt.ylabel('True label')\n",
    "    plt.xlabel('Predicted label')\n",
    "    plt.show()"
   ]
  },
  {
   "cell_type": "code",
   "execution_count": null,
   "metadata": {
    "collapsed": true
   },
   "outputs": [],
   "source": []
  },
  {
   "cell_type": "code",
   "execution_count": 11,
   "metadata": {},
   "outputs": [
    {
     "data": {
      "image/png": "[encoded data removed]",
      "text/plain": [
       "<matplotlib.figure.Figure at 0x1147af710>"
      ]
     },
     "metadata": {},
     "output_type": "display_data"
    }
   ],
   "source": [
    "## confusion matrix for check classification good or bad\n",
    "\n",
    "y_pred = pipe_rf.predict(X_test)\n",
    "confmat = confusion_matrix(y_true=y_test, y_pred=y_pred)\n",
    "\n",
    "classes = (\"Cancered\", \"none\")\n",
    "SIZE_IMAGE = (10,10)\n",
    "import itertools\n",
    "plot_confusion_matrix(confmat, classes=classes, title='Confusion matrix')"
   ]
  },
  {
   "cell_type": "code",
   "execution_count": null,
   "metadata": {
    "collapsed": true
   },
   "outputs": [],
   "source": []
  }
 ],
 "metadata": {
  "kernelspec": {
   "display_name": "Python 3",
   "language": "python",
   "name": "python3"
  },
  "language_info": {
   "codemirror_mode": {
    "name": "ipython",
    "version": 3
   },
   "file_extension": ".py",
   "mimetype": "text/x-python",
   "name": "python",
   "nbconvert_exporter": "python",
   "pygments_lexer": "ipython3",
   "version": "3.5.3"
  }
 },
 "nbformat": 4,
 "nbformat_minor": 2
}
