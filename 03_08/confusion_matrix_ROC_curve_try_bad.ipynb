{
 "cells": [
  {
   "cell_type": "code",
   "execution_count": 1,
   "metadata": {
    "collapsed": true
   },
   "outputs": [],
   "source": [
    "# for breast cancer\n",
    "# import package\n",
    "from sklearn.datasets import load_breast_cancer\n",
    "# -----------manipulate data package-----------\n",
    "import pandas as pd\n",
    "import numpy as np\n",
    "# -----------machine learning package-----------\n",
    "from sklearn.preprocessing import StandardScaler\n",
    "from sklearn.decomposition import PCA\n",
    "from sklearn.linear_model import LogisticRegression\n",
    "from sklearn.ensemble import RandomForestClassifier\n",
    "from xgboost import XGBClassifier,DMatrix\n",
    "from sklearn.pipeline import Pipeline\n",
    "from sklearn.preprocessing import LabelEncoder\n",
    "from sklearn.model_selection import train_test_split\n",
    "from sklearn.model_selection import StratifiedKFold\n",
    "from sklearn.model_selection import cross_val_score\n",
    "from sklearn.model_selection import learning_curve\n",
    "from sklearn.model_selection import validation_curve\n",
    "from sklearn.utils import resample\n",
    "from sklearn.metrics import confusion_matrix\n",
    "\n",
    "# -----------ploting package-----------\n",
    "import matplotlib\n",
    "import matplotlib.pyplot as plt\n",
    "# for plot showing log in xscale\n",
    "matplotlib.rc('font', family='Arial')\n",
    "%matplotlib inline \n",
    "# plot in jupyter"
   ]
  },
  {
   "cell_type": "code",
   "execution_count": 2,
   "metadata": {},
   "outputs": [
    {
     "name": "stdout",
     "output_type": "stream",
     "text": [
      "212 357\n"
     ]
    }
   ],
   "source": [
    "# load data csv or db\n",
    "# load breast cancer dataset\n",
    "cancer = load_breast_cancer()\n",
    "data_ay = np.c_[cancer.data, cancer.target]\n",
    "\n",
    "columns = np.append(cancer.feature_names, [\"target\"])\n",
    "data = pd.DataFrame(data_ay, columns=columns)\n",
    "\n",
    "no_cancer = data[data['target']==0].copy().reset_index(drop=True)\n",
    "cancered = data[data['target']==1].copy().reset_index(drop=True)\n",
    "\n",
    "print(len(no_cancer),len(cancered))\n",
    "canceredc = cancered.copy()"
   ]
  },
  {
   "cell_type": "code",
   "execution_count": 3,
   "metadata": {
    "collapsed": true
   },
   "outputs": [],
   "source": [
    "# SBS_list = ['mean concave points', 'mean fractal dimension', 'texture error', 'area error'\\\n",
    "#  , 'compactness error', 'worst texture', 'worst symmetry']\n",
    "#  try only two columns to predict\n",
    "SBS_list = ['mean concave points', 'mean fractal dimension',]\n",
    "\n",
    "\n",
    "# 用特徵篩選完的欄位\n",
    "X = data[SBS_list].values\n",
    "y = data.iloc[:,-1].values.astype('int32')\n",
    "X_train,X_test,y_train,y_test = train_test_split(X,y,test_size=0.2,random_state=1)"
   ]
  },
  {
   "cell_type": "code",
   "execution_count": 4,
   "metadata": {
    "collapsed": true
   },
   "outputs": [],
   "source": [
    "pipe_rf = Pipeline([('scl',StandardScaler()),('rf',RandomForestClassifier(random_state=1,))])"
   ]
  },
  {
   "cell_type": "code",
   "execution_count": 5,
   "metadata": {},
   "outputs": [
    {
     "name": "stdout",
     "output_type": "stream",
     "text": [
      "Train Accuracy:0.993\n",
      "Test Accuracy:0.877\n"
     ]
    }
   ],
   "source": [
    "pipe_rf.fit(X_train,y_train)\n",
    "print('Train Accuracy:%.3f' % pipe_rf.score(X_train,y_train))\n",
    "print('Test Accuracy:%.3f' % pipe_rf.score(X_test,y_test))"
   ]
  },
  {
   "cell_type": "code",
   "execution_count": 6,
   "metadata": {
    "collapsed": true
   },
   "outputs": [],
   "source": [
    "# https://github.com/barrachri/imbalanced_datasets/blob/master/utils.py\n",
    "\n",
    "def plot_confusion_matrix(cm, classes,\n",
    "                          title='Confusion matrix',\n",
    "                          cmap=plt.cm.Blues):\n",
    "    \"\"\"\n",
    "    Plot the confusion matrix.\n",
    "    The returned matrix is normalized but shows the original value\n",
    "    \"\"\"\n",
    "    \n",
    "    plt.figure(figsize=SIZE_IMAGE)\n",
    "    \n",
    "    cm_n = cm.astype('float') / cm.sum(axis=1)[:, np.newaxis]\n",
    "\n",
    "    plt.imshow(cm_n, interpolation='nearest', cmap=cmap)\n",
    "    plt.title(title)\n",
    "    plt.colorbar()\n",
    "    tick_marks = np.arange(len(classes))\n",
    "    plt.xticks(tick_marks, classes, rotation=45)\n",
    "    plt.yticks(tick_marks, classes)\n",
    "\n",
    "    thresh = cm_n.max() / 3.\n",
    "    \n",
    "    for i, j in itertools.product(range(cm.shape[0]), range(cm.shape[1])):\n",
    "        \n",
    "        color=\"white\" if cm_n[i, j] > thresh else \"black\"\n",
    "        \n",
    "        value_normalized = cm_n[i, j]\n",
    "        value = cm[i, j] \n",
    "        \n",
    "        # print original values\n",
    "        plt.text(j, i, format(value),\n",
    "                 horizontalalignment=\"center\",\n",
    "                 verticalalignment='top',\n",
    "                 color=color)\n",
    "        \n",
    "        # print normalized values\n",
    "        plt.text(j, i, format(value_normalized,'.2f'),\n",
    "                 horizontalalignment=\"center\",\n",
    "                 verticalalignment='bottom',\n",
    "                 color=color)  \n",
    "          \n",
    "\n",
    "    plt.tight_layout()\n",
    "    plt.ylabel('True label')\n",
    "    plt.xlabel('Predicted label')\n",
    "    plt.show()"
   ]
  },
  {
   "cell_type": "code",
   "execution_count": 7,
   "metadata": {},
   "outputs": [
    {
     "data": {
      "image/png": "[encoded data removed]",
      "text/plain": [
       "<matplotlib.figure.Figure at 0x114816b00>"
      ]
     },
     "metadata": {},
     "output_type": "display_data"
    }
   ],
   "source": [
    "## confusion matrix for check classification good or bad\n",
    "\n",
    "y_pred = pipe_rf.predict(X_test)\n",
    "confmat = confusion_matrix(y_true=y_test, y_pred=y_pred)\n",
    "\n",
    "classes = (\"Cancered\", \"none\")\n",
    "SIZE_IMAGE = (10,10)\n",
    "import itertools\n",
    "plot_confusion_matrix(confmat, classes=classes, title='Confusion matrix')"
   ]
  },
  {
   "cell_type": "code",
   "execution_count": null,
   "metadata": {
    "collapsed": true
   },
   "outputs": [],
   "source": []
  },
  {
   "cell_type": "code",
   "execution_count": null,
   "metadata": {
    "collapsed": true
   },
   "outputs": [],
   "source": []
  },
  {
   "cell_type": "code",
   "execution_count": null,
   "metadata": {
    "collapsed": true
   },
   "outputs": [],
   "source": []
  },
  {
   "cell_type": "code",
   "execution_count": 8,
   "metadata": {},
   "outputs": [
    {
     "data": {
      "text/plain": [
       "(455, 2)"
      ]
     },
     "execution_count": 8,
     "metadata": {},
     "output_type": "execute_result"
    }
   ],
   "source": [
    "X_train.shape"
   ]
  },
  {
   "cell_type": "code",
   "execution_count": 9,
   "metadata": {},
   "outputs": [
    {
     "data": {
      "image/png": "[encoded data removed]",
      "text/plain": [
       "<matplotlib.figure.Figure at 0x114b34278>"
      ]
     },
     "metadata": {},
     "output_type": "display_data"
    }
   ],
   "source": [
    "from sklearn.metrics import roc_curve, auc\n",
    "from scipy import interp\n",
    "    \n",
    "kfold = StratifiedKFold(n_splits=3,random_state=1)\n",
    "\n",
    "\n",
    "cv = list(kfold.split(X_train, y_train))\n",
    "\n",
    "fig = plt.figure(figsize=(7, 5))\n",
    "\n",
    "mean_tpr = 0.0\n",
    "mean_fpr = np.linspace(0, 1, 100)\n",
    "all_tpr = []\n",
    "\n",
    "for i, (train, test) in enumerate(cv):\n",
    "    probas = pipe_rf.fit(X_train[train],\n",
    "                         y_train[train]).predict_proba(X_train[test])\n",
    "\n",
    "    fpr, tpr, thresholds = roc_curve(y_train[test],\n",
    "                                     probas[:, 1],\n",
    "                                     pos_label=1)\n",
    "    mean_tpr += interp(mean_fpr, fpr, tpr)\n",
    "    mean_tpr[0] = 0.0\n",
    "    roc_auc = auc(fpr, tpr)\n",
    "    plt.plot(fpr,\n",
    "             tpr,\n",
    "             label='ROC fold %d (area = %0.2f)'\n",
    "                   % (i+1, roc_auc))\n",
    "\n",
    "plt.plot([0, 1],\n",
    "         [0, 1],\n",
    "         linestyle='--',\n",
    "         color=(0.6, 0.6, 0.6),\n",
    "         label='random guessing')\n",
    "\n",
    "mean_tpr /= len(cv)\n",
    "mean_tpr[-1] = 1.0\n",
    "mean_auc = auc(mean_fpr, mean_tpr)\n",
    "plt.plot(mean_fpr, mean_tpr, 'k--',\n",
    "         label='mean ROC (area = %0.2f)' % mean_auc, lw=2)\n",
    "plt.plot([0, 0, 1],\n",
    "         [0, 1, 1],\n",
    "         linestyle=':',\n",
    "         color='black',\n",
    "         label='perfect performance')\n",
    "\n",
    "plt.xlim([-0.05, 1.05])\n",
    "plt.ylim([-0.05, 1.05])\n",
    "plt.xlabel('false positive rate')\n",
    "plt.ylabel('true positive rate')\n",
    "plt.legend(loc=\"lower right\")\n",
    "\n",
    "plt.tight_layout()\n",
    "# plt.savefig('images/06_10.png', dpi=300)\n",
    "plt.show()"
   ]
  },
  {
   "cell_type": "code",
   "execution_count": 10,
   "metadata": {},
   "outputs": [
    {
     "name": "stdout",
     "output_type": "stream",
     "text": [
      "ROC AUC:0.863\n",
      "Accuravy:0.877\n"
     ]
    }
   ],
   "source": [
    "from sklearn.metrics import roc_auc_score,accuracy_score\n",
    "print(\"ROC AUC:%.3f\" %roc_auc_score(y_true=y_test,y_score=y_pred))\n",
    "print(\"Accuravy:%.3f\" %accuracy_score(y_true=y_test,y_pred=y_pred))"
   ]
  },
  {
   "cell_type": "code",
   "execution_count": null,
   "metadata": {
    "collapsed": true
   },
   "outputs": [],
   "source": []
  }
 ],
 "metadata": {
  "kernelspec": {
   "display_name": "Python 3",
   "language": "python",
   "name": "python3"
  },
  "language_info": {
   "codemirror_mode": {
    "name": "ipython",
    "version": 3
   },
   "file_extension": ".py",
   "mimetype": "text/x-python",
   "name": "python",
   "nbconvert_exporter": "python",
   "pygments_lexer": "ipython3",
   "version": "3.5.3"
  }
 },
 "nbformat": 4,
 "nbformat_minor": 2
}
