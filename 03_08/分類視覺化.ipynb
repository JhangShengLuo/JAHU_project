{
 "cells": [
  {
   "cell_type": "code",
   "execution_count": 39,
   "metadata": {
    "collapsed": true
   },
   "outputs": [],
   "source": [
    "# for breast cancer\n",
    "# import package\n",
    "# -----------manipulate data package-----------\n",
    "import pandas as pd\n",
    "import numpy as np\n",
    "# -----------machine learning package-----------\n",
    "from sklearn.datasets import load_breast_cancer\n",
    "from sklearn.preprocessing import StandardScaler\n",
    "from sklearn.decomposition import PCA,KernelPCA\n",
    "from sklearn.linear_model import LogisticRegression\n",
    "from sklearn.model_selection import train_test_split\n",
    "from sklearn.utils import resample\n",
    "from xgboost import XGBClassifier\n",
    "# -----------ploting package-----------\n",
    "import matplotlib\n",
    "import matplotlib.pyplot as plt\n",
    "# for plot showing log in xscale\n",
    "matplotlib.rc('font', family='Arial')\n",
    "%matplotlib inline \n",
    "# plot in jupyter"
   ]
  },
  {
   "cell_type": "code",
   "execution_count": 31,
   "metadata": {},
   "outputs": [
    {
     "name": "stdout",
     "output_type": "stream",
     "text": [
      "212 357\n"
     ]
    }
   ],
   "source": [
    "# load data csv or db\n",
    "# load breast cancer dataset\n",
    "cancer = load_breast_cancer()\n",
    "data_ay = np.c_[cancer.data, cancer.target]\n",
    "\n",
    "columns = np.append(cancer.feature_names, [\"target\"])\n",
    "data = pd.DataFrame(data_ay, columns=columns)\n",
    "\n",
    "cancered = data[data['target']==1].copy().reset_index(drop=True)\n",
    "no_cancer = data[data['target']==0].copy().reset_index(drop=True)\n",
    "\n",
    "print(len(no_cancer),len(cancered))"
   ]
  },
  {
   "cell_type": "code",
   "execution_count": 33,
   "metadata": {
    "collapsed": true
   },
   "outputs": [],
   "source": [
    "# X = dia_df.iloc[:,:-1].values\n",
    "X = data.iloc[:,:-1].values\n",
    "y = data.iloc[:,-1].values\n",
    "X_train,X_test,y_train,y_test = train_test_split(X,y,test_size=0.2,random_state=1)"
   ]
  },
  {
   "cell_type": "code",
   "execution_count": 36,
   "metadata": {
    "collapsed": true
   },
   "outputs": [],
   "source": [
    "from matplotlib.colors import ListedColormap\n",
    "\n",
    "def plot_decision_regions(X, y, classifier, resolution=0.02):\n",
    "\n",
    "    # setup marker generator and color map\n",
    "    markers = ('s', 'x', 'o', '^', 'v')\n",
    "    colors = ('red', 'blue', 'lightgreen', 'gray', 'cyan')\n",
    "    cmap = ListedColormap(colors[:len(np.unique(y))])\n",
    "\n",
    "    # plot the decision surface\n",
    "    x1_min, x1_max = X[:, 0].min() - 1, X[:, 0].max() + 1\n",
    "    x2_min, x2_max = X[:, 1].min() - 1, X[:, 1].max() + 1\n",
    "    xx1, xx2 = np.meshgrid(np.arange(x1_min, x1_max, resolution),\n",
    "                           np.arange(x2_min, x2_max, resolution))\n",
    "    Z = classifier.predict(np.array([xx1.ravel(), xx2.ravel()]).T)\n",
    "    Z = Z.reshape(xx1.shape)\n",
    "    plt.contourf(xx1, xx2, Z, alpha=0.4, cmap=cmap)\n",
    "    plt.xlim(xx1.min(), xx1.max())\n",
    "    plt.ylim(xx2.min(), xx2.max())\n",
    "\n",
    "    # plot class samples\n",
    "    for idx, cl in enumerate(np.unique(y)):\n",
    "        plt.scatter(x=X[y == cl, 0], \n",
    "                    y=X[y == cl, 1],\n",
    "                    alpha=0.6, \n",
    "                    c=cmap(idx),\n",
    "                    edgecolor='black',\n",
    "                    marker=markers[idx], \n",
    "                    label=cl)"
   ]
  },
  {
   "cell_type": "code",
   "execution_count": 54,
   "metadata": {
    "collapsed": true
   },
   "outputs": [],
   "source": [
    "# 降維至2維以便視覺化\n",
    "\n",
    "# 還有這麼多種PCA方式[SparsePCA,IncrementalPCA,MiniBatchSparsePCA,RandomizedPCA]\n",
    "# 2018 03 08 需要再研究\n",
    "# pca = PCA(n_components=2)\n",
    "pca = KernelPCA(n_components=2,kernel='sigmoid')\n",
    "\n",
    "[\"linear\" , \"poly\" , \"rbf\" , \"sigmoid\" , \"cosine\" ]\n",
    "\n",
    "\"\"\"\n",
    "PCA 應用本身是基于一定假设\n",
    "1. 線性。即特徵的變換是線性變換，作用有限，目前也有非線性的特徵變换kernel PCA。\n",
    "2. 處理的數據分布是服從指数族概率密度函数，即能通過均值和斜方差来表徵數據的分布，\\\n",
    "因为只有在這個情况下信噪比和斜方差矩陣才能表示噪音和數據冗余。\\\n",
    "（好在實際應用中常見的數據是服從高斯分布或近似高斯分布(就是常態分布)）。\n",
    "\n",
    "\"\"\"\n",
    "std = StandardScaler()\n",
    "X_train_std = std.fit_transform(X_train)\n",
    "X_test_std = std.transform(X_test)\n",
    "X_train_pca = pca.fit_transform(X_train_std)\n",
    "X_test_pca = pca.transform(X_test_std)\n",
    "\n",
    "# lr = LogisticRegression()\n",
    "lr = XGBClassifier(random_state=1,learning_rate=0.017)\n",
    "lr = lr.fit(X_train_pca, y_train)"
   ]
  },
  {
   "cell_type": "code",
   "execution_count": 55,
   "metadata": {},
   "outputs": [
    {
     "data": {
      "image/png": "[encoded data removed]",
      "text/plain": [
       "<matplotlib.figure.Figure at 0x11c0bbc88>"
      ]
     },
     "metadata": {},
     "output_type": "display_data"
    }
   ],
   "source": [
    "plot_decision_regions(X_train_pca, y_train, classifier=lr)\n",
    "plt.xlabel('PC 1')\n",
    "plt.ylabel('PC 2')\n",
    "plt.legend(loc='lower left')\n",
    "plt.tight_layout()\n",
    "# plt.savefig('images/05_04.png', dpi=300)\n",
    "plt.show()"
   ]
  },
  {
   "cell_type": "code",
   "execution_count": null,
   "metadata": {
    "collapsed": true
   },
   "outputs": [],
   "source": []
  }
 ],
 "metadata": {
  "kernelspec": {
   "display_name": "Python 3",
   "language": "python",
   "name": "python3"
  },
  "language_info": {
   "codemirror_mode": {
    "name": "ipython",
    "version": 3
   },
   "file_extension": ".py",
   "mimetype": "text/x-python",
   "name": "python",
   "nbconvert_exporter": "python",
   "pygments_lexer": "ipython3",
   "version": "3.5.3"
  }
 },
 "nbformat": 4,
 "nbformat_minor": 2
}
